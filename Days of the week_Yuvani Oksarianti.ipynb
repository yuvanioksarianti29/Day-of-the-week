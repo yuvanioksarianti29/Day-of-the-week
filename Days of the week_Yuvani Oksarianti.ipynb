{
  "nbformat": 4,
  "nbformat_minor": 0,
  "metadata": {
    "colab": {
      "name": "3.4.1.13 days of the week.ipynb",
      "provenance": [],
      "collapsed_sections": []
    },
    "kernelspec": {
      "name": "python3",
      "display_name": "Python 3"
    },
    "language_info": {
      "name": "python"
    }
  },
  "cells": [
    {
      "cell_type": "markdown",
      "source": [
        "# **3.4.1.13 LAB: Days of the week**"
      ],
      "metadata": {
        "id": "uYGYBMo4KoNi"
      }
    },
    {
      "cell_type": "code",
      "execution_count": 2,
      "metadata": {
        "colab": {
          "base_uri": "https://localhost:8080/",
          "height": 0
        },
        "id": "bcdcDQ3zkHpF",
        "outputId": "6e8fa7c9-3c9c-4aac-aa23-70d5862a641c"
      },
      "outputs": [
        {
          "output_type": "stream",
          "name": "stdout",
          "text": [
            "Mon\n",
            "Tus\n",
            "Sun\n",
            "Sorry, I can't serve your request.\n"
          ]
        }
      ],
      "source": [
        "class WeekDayError(Exception):\n",
        "    pass\n",
        "\n",
        "class Weeker:\n",
        "    __weekdays = ['Mon','Tus','Wed','Thu','Fri','Sat','Sun']\n",
        "    \n",
        "    def __init__(self, day):\n",
        "        try:\n",
        "            self.__day = day\n",
        "            self.__stat = self.__weekdays.index(self.__day)\n",
        "        except:\n",
        "            raise WeekDayError\n",
        "    \n",
        "    def __str__(self):\n",
        "        return self.__weekdays[self.__stat]\n",
        "        \n",
        "    def add_days(self, n):\n",
        "        self.__stat = (self.__stat + n ) % 7\n",
        "        self.__day = self.__stat\n",
        "        \n",
        "    def subtract_days(self, n):\n",
        "        self.__stat = (self.__stat - n ) % 7\n",
        "        self.__day = self.__stat\n",
        "        \n",
        "try:\n",
        "    weekday = Weeker('Mon')\n",
        "    print(weekday)\n",
        "    weekday.add_days(15)\n",
        "    print(weekday)\n",
        "    weekday.subtract_days(23)\n",
        "    print(weekday)\n",
        "    weekday = Weeker('Monday')\n",
        "except WeekDayError:\n",
        "    print(\"Sorry, I can't serve your request.\")"
      ]
    }
  ]
}